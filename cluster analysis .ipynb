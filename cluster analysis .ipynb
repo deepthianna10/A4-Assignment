{
 "cells": [
  {
   "cell_type": "code",
   "execution_count": 1,
   "id": "a5165827-ffe3-4316-9319-953084658eb2",
   "metadata": {},
   "outputs": [],
   "source": [
    "# Load necessary libraries\n",
    "import pandas as pd\n",
    "import numpy as np\n",
    "import matplotlib.pyplot as plt\n",
    "from sklearn.cluster import KMeans\n",
    "from sklearn.preprocessing import StandardScaler\n",
    "from sklearn.decomposition import PCA\n",
    "from sklearn.metrics import silhouette_samples, silhouette_score\n",
    "from sklearn.impute import SimpleImputer\n",
    "from sklearn.preprocessing import OneHotEncoder\n"
   ]
  },
  {
   "cell_type": "code",
   "execution_count": 2,
   "id": "e902fd1d-2638-4ebc-942a-d08d9607bd41",
   "metadata": {},
   "outputs": [],
   "source": [
    "# Load the dataset\n",
    "file_path = r\"C:\\Users\\LENOVO\\Downloads\\Survey.csv\"\n",
    "df = pd.read_csv(file_path)"
   ]
  },
  {
   "cell_type": "code",
   "execution_count": 3,
   "id": "c62e3ed1-db53-4cd0-9d2a-1f58bbcf75b5",
   "metadata": {},
   "outputs": [
    {
     "name": "stdout",
     "output_type": "stream",
     "text": [
      "        City Sex    Age      Occupation Monthly Household Income  Income  \\\n",
      "0  Bangalore   M  26-35  Private Sector         85,001 to105,000   95000   \n",
      "1  Bangalore   M  46-60  Government/PSU         45,001 to 65,000   55000   \n",
      "2  Bangalore   F  46-60  Government/PSU         25,001 to 45,000   35000   \n",
      "3  Bangalore   M  36-45  Private Sector                  >125000  200000   \n",
      "4  Bangalore   M  26-35   Self Employed         85,001 to105,000   95000   \n",
      "\n",
      "  Planning to Buy a new house Time Frame Reasons for buying a house  \\\n",
      "0                         Yes  6M to 1Yr                   Residing   \n",
      "1                         Yes  6M to 1Yr                 Investment   \n",
      "2                         Yes  <6 Months              Rental Income   \n",
      "3                         Yes  <6 Months                 Investment   \n",
      "4                         Yes     1-2 Yr                   Residing   \n",
      "\n",
      "  what type of House  ... 4. Availability of domestic help Time  Size Budgets  \\\n",
      "0          Apartment  ...                                1    9  1200    72.5   \n",
      "1          Apartment  ...                                2    9   800    32.5   \n",
      "2          Apartment  ...                                4    3   400    12.5   \n",
      "3          Apartment  ...                                5    3  1600   102.5   \n",
      "4          Apartment  ...                                3   18   800    52.5   \n",
      "\n",
      "  Maintainances  EMI.1  ages  sex  Finished/Semi Finished.1  \\\n",
      "0         30000  42500  30.5    M             Semifurnished   \n",
      "1           120  27500  53.0    M             Semifurnished   \n",
      "2         10000  10000  53.0    F             Semifurnished   \n",
      "3         70000  80000  40.5    M                 Furnished   \n",
      "4         30000  42500  30.5    M             Semifurnished   \n",
      "\n",
      "   Influence Decision.1  \n",
      "0           Site visits  \n",
      "1             Newspaper  \n",
      "2              Hoarding  \n",
      "3   Electronic/Internet  \n",
      "4   Electronic/Internet  \n",
      "\n",
      "[5 rows x 50 columns]\n",
      "<class 'pandas.core.frame.DataFrame'>\n",
      "RangeIndex: 70 entries, 0 to 69\n",
      "Data columns (total 50 columns):\n",
      " #   Column                                     Non-Null Count  Dtype  \n",
      "---  ------                                     --------------  -----  \n",
      " 0   City                                       70 non-null     object \n",
      " 1   Sex                                        70 non-null     object \n",
      " 2   Age                                        70 non-null     object \n",
      " 3   Occupation                                 70 non-null     object \n",
      " 4   Monthly Household Income                   70 non-null     object \n",
      " 5   Income                                     70 non-null     int64  \n",
      " 6   Planning to Buy a new house                70 non-null     object \n",
      " 7   Time Frame                                 70 non-null     object \n",
      " 8   Reasons for buying a house                 70 non-null     object \n",
      " 9   what type of House                         70 non-null     object \n",
      " 10  Number of rooms                            70 non-null     object \n",
      " 11  Size of House                              70 non-null     object \n",
      " 12  Budget                                     70 non-null     object \n",
      " 13  Finished/Semi Finished                     70 non-null     object \n",
      " 14  Influence Decision                         70 non-null     object \n",
      " 15  Maintainance                               70 non-null     object \n",
      " 16  EMI                                        70 non-null     object \n",
      " 17  1.Proximity to city                        70 non-null     int64  \n",
      " 18  2.Proximity to schools                     70 non-null     int64  \n",
      " 19  3. Proximity to transport                  70 non-null     int64  \n",
      " 20  4. Proximity to work place                 70 non-null     int64  \n",
      " 21  5. Proximity to shopping                   70 non-null     int64  \n",
      " 22  1. Gym/Pool/Sports facility                70 non-null     int64  \n",
      " 23  2. Parking space                           70 non-null     int64  \n",
      " 24  3.Power back-up                            70 non-null     int64  \n",
      " 25  4.Water supply                             70 non-null     int64  \n",
      " 26  5.Security                                 70 non-null     int64  \n",
      " 27  1. Exterior look                           70 non-null     int64  \n",
      " 28  2. Unit size                               70 non-null     int64  \n",
      " 29  3. Interior design and branded components  70 non-null     int64  \n",
      " 30  4. Layout plan (Integrated etc.)           70 non-null     int64  \n",
      " 31  5. View from apartment                     70 non-null     int64  \n",
      " 32  1. Price                                   70 non-null     int64  \n",
      " 33  2. Booking amount                          70 non-null     int64  \n",
      " 34  3. Equated Monthly Instalment (EMI)        70 non-null     int64  \n",
      " 35  4. Maintenance charges                     70 non-null     int64  \n",
      " 36  5. Availability of loan                    70 non-null     int64  \n",
      " 37  1. Builder reputation                      70 non-null     int64  \n",
      " 38  2. Appreciation potential                  70 non-null     int64  \n",
      " 39  3. Profile of neighbourhood                70 non-null     int64  \n",
      " 40  4. Availability of domestic help           70 non-null     int64  \n",
      " 41  Time                                       70 non-null     int64  \n",
      " 42  Size                                       70 non-null     int64  \n",
      " 43  Budgets                                    70 non-null     float64\n",
      " 44  Maintainances                              70 non-null     int64  \n",
      " 45  EMI.1                                      70 non-null     int64  \n",
      " 46  ages                                       70 non-null     float64\n",
      " 47  sex                                        70 non-null     object \n",
      " 48  Finished/Semi Finished.1                   70 non-null     object \n",
      " 49  Influence Decision.1                       70 non-null     object \n",
      "dtypes: float64(2), int64(29), object(19)\n",
      "memory usage: 27.5+ KB\n",
      "None\n"
     ]
    }
   ],
   "source": [
    "# Inspect the data\n",
    "print(df.head())\n",
    "print(df.info())"
   ]
  },
  {
   "cell_type": "code",
   "execution_count": 4,
   "id": "ff5c71c4-6fb9-4931-a3bb-51153ec89dcd",
   "metadata": {},
   "outputs": [],
   "source": [
    "# Handle concatenated strings (if applicable)\n",
    "df = df.apply(lambda x: x.str.split(\"(?<!\\\\w)(?=[A-Z])\", expand=True)[0] if x.dtype == \"object\" else x)\n"
   ]
  },
  {
   "cell_type": "code",
   "execution_count": 5,
   "id": "a66a4b15-2f0d-458a-ad98-97ee5b7dc38e",
   "metadata": {},
   "outputs": [
    {
     "name": "stdout",
     "output_type": "stream",
     "text": [
      "  City Sex    Age Occupation Monthly Household Income  Income  \\\n",
      "0           26-35                    85,001 to105,000   95000   \n",
      "1           46-60                    45,001 to 65,000   55000   \n",
      "2           46-60                    25,001 to 45,000   35000   \n",
      "3           36-45                             >125000  200000   \n",
      "4           26-35                    85,001 to105,000   95000   \n",
      "\n",
      "  Planning to Buy a new house Time Frame Reasons for buying a house  \\\n",
      "0                              6M to 1Yr                              \n",
      "1                              6M to 1Yr                              \n",
      "2                                    <6                               \n",
      "3                                    <6                               \n",
      "4                                   1-2                               \n",
      "\n",
      "  what type of House  ... 4. Availability of domestic help Time  Size Budgets  \\\n",
      "0                     ...                                1    9  1200    72.5   \n",
      "1                     ...                                2    9   800    32.5   \n",
      "2                     ...                                4    3   400    12.5   \n",
      "3                     ...                                5    3  1600   102.5   \n",
      "4                     ...                                3   18   800    52.5   \n",
      "\n",
      "  Maintainances  EMI.1  ages  sex  Finished/Semi Finished.1  \\\n",
      "0         30000  42500  30.5                                  \n",
      "1           120  27500  53.0                                  \n",
      "2         10000  10000  53.0                                  \n",
      "3         70000  80000  40.5                                  \n",
      "4         30000  42500  30.5                                  \n",
      "\n",
      "   Influence Decision.1  \n",
      "0                        \n",
      "1                        \n",
      "2                        \n",
      "3                        \n",
      "4                        \n",
      "\n",
      "[5 rows x 50 columns]\n",
      "<class 'pandas.core.frame.DataFrame'>\n",
      "RangeIndex: 70 entries, 0 to 69\n",
      "Data columns (total 50 columns):\n",
      " #   Column                                     Non-Null Count  Dtype  \n",
      "---  ------                                     --------------  -----  \n",
      " 0   City                                       70 non-null     object \n",
      " 1   Sex                                        70 non-null     object \n",
      " 2   Age                                        70 non-null     object \n",
      " 3   Occupation                                 70 non-null     object \n",
      " 4   Monthly Household Income                   70 non-null     object \n",
      " 5   Income                                     70 non-null     int64  \n",
      " 6   Planning to Buy a new house                70 non-null     object \n",
      " 7   Time Frame                                 70 non-null     object \n",
      " 8   Reasons for buying a house                 70 non-null     object \n",
      " 9   what type of House                         70 non-null     object \n",
      " 10  Number of rooms                            70 non-null     object \n",
      " 11  Size of House                              70 non-null     object \n",
      " 12  Budget                                     70 non-null     object \n",
      " 13  Finished/Semi Finished                     70 non-null     object \n",
      " 14  Influence Decision                         70 non-null     object \n",
      " 15  Maintainance                               70 non-null     object \n",
      " 16  EMI                                        70 non-null     object \n",
      " 17  1.Proximity to city                        70 non-null     int64  \n",
      " 18  2.Proximity to schools                     70 non-null     int64  \n",
      " 19  3. Proximity to transport                  70 non-null     int64  \n",
      " 20  4. Proximity to work place                 70 non-null     int64  \n",
      " 21  5. Proximity to shopping                   70 non-null     int64  \n",
      " 22  1. Gym/Pool/Sports facility                70 non-null     int64  \n",
      " 23  2. Parking space                           70 non-null     int64  \n",
      " 24  3.Power back-up                            70 non-null     int64  \n",
      " 25  4.Water supply                             70 non-null     int64  \n",
      " 26  5.Security                                 70 non-null     int64  \n",
      " 27  1. Exterior look                           70 non-null     int64  \n",
      " 28  2. Unit size                               70 non-null     int64  \n",
      " 29  3. Interior design and branded components  70 non-null     int64  \n",
      " 30  4. Layout plan (Integrated etc.)           70 non-null     int64  \n",
      " 31  5. View from apartment                     70 non-null     int64  \n",
      " 32  1. Price                                   70 non-null     int64  \n",
      " 33  2. Booking amount                          70 non-null     int64  \n",
      " 34  3. Equated Monthly Instalment (EMI)        70 non-null     int64  \n",
      " 35  4. Maintenance charges                     70 non-null     int64  \n",
      " 36  5. Availability of loan                    70 non-null     int64  \n",
      " 37  1. Builder reputation                      70 non-null     int64  \n",
      " 38  2. Appreciation potential                  70 non-null     int64  \n",
      " 39  3. Profile of neighbourhood                70 non-null     int64  \n",
      " 40  4. Availability of domestic help           70 non-null     int64  \n",
      " 41  Time                                       70 non-null     int64  \n",
      " 42  Size                                       70 non-null     int64  \n",
      " 43  Budgets                                    70 non-null     float64\n",
      " 44  Maintainances                              70 non-null     int64  \n",
      " 45  EMI.1                                      70 non-null     int64  \n",
      " 46  ages                                       70 non-null     float64\n",
      " 47  sex                                        70 non-null     object \n",
      " 48  Finished/Semi Finished.1                   70 non-null     object \n",
      " 49  Influence Decision.1                       70 non-null     object \n",
      "dtypes: float64(2), int64(29), object(19)\n",
      "memory usage: 27.5+ KB\n",
      "None\n"
     ]
    }
   ],
   "source": [
    "# Verify the data after cleaning\n",
    "print(df.head())\n",
    "print(df.info())\n"
   ]
  },
  {
   "cell_type": "code",
   "execution_count": 6,
   "id": "526747a1-8fbd-43d5-b335-e015a11f89b1",
   "metadata": {},
   "outputs": [],
   "source": [
    "# Select only categorical columns and numerical columns for clustering\n",
    "categorical_cols = df.select_dtypes(include=['object'])\n",
    "numerical_cols = df.select_dtypes(include=['float64', 'int64'])"
   ]
  },
  {
   "cell_type": "code",
   "execution_count": 7,
   "id": "3eb8e54b-9ca3-4465-81eb-c2cfd88ac004",
   "metadata": {},
   "outputs": [],
   "source": [
    "# Handle missing values in numerical data\n",
    "imputer = SimpleImputer(strategy='mean')\n",
    "numerical_cols_imputed = pd.DataFrame(imputer.fit_transform(numerical_cols), columns=numerical_cols.columns)"
   ]
  },
  {
   "cell_type": "code",
   "execution_count": 8,
   "id": "9c2fb57f-016b-45cd-b4fa-073852f7f31a",
   "metadata": {},
   "outputs": [
    {
     "ename": "TypeError",
     "evalue": "OneHotEncoder.__init__() got an unexpected keyword argument 'sparse'",
     "output_type": "error",
     "traceback": [
      "\u001b[1;31m---------------------------------------------------------------------------\u001b[0m",
      "\u001b[1;31mTypeError\u001b[0m                                 Traceback (most recent call last)",
      "Cell \u001b[1;32mIn[8], line 2\u001b[0m\n\u001b[0;32m      1\u001b[0m \u001b[38;5;66;03m# Encode categorical variables using One-Hot Encoding\u001b[39;00m\n\u001b[1;32m----> 2\u001b[0m encoder \u001b[38;5;241m=\u001b[39m \u001b[43mOneHotEncoder\u001b[49m\u001b[43m(\u001b[49m\u001b[43mdrop\u001b[49m\u001b[38;5;241;43m=\u001b[39;49m\u001b[38;5;124;43m'\u001b[39;49m\u001b[38;5;124;43mfirst\u001b[39;49m\u001b[38;5;124;43m'\u001b[39;49m\u001b[43m,\u001b[49m\u001b[43m \u001b[49m\u001b[43msparse\u001b[49m\u001b[38;5;241;43m=\u001b[39;49m\u001b[38;5;28;43;01mFalse\u001b[39;49;00m\u001b[43m)\u001b[49m\n",
      "\u001b[1;31mTypeError\u001b[0m: OneHotEncoder.__init__() got an unexpected keyword argument 'sparse'"
     ]
    }
   ],
   "source": [
    "# Encode categorical variables using One-Hot Encoding\n",
    "encoder = OneHotEncoder(drop='first', sparse=False)"
   ]
  },
  {
   "cell_type": "code",
   "execution_count": 9,
   "id": "1304b463-69cb-42e1-9f1b-d5d7b6291687",
   "metadata": {},
   "outputs": [
    {
     "ename": "TypeError",
     "evalue": "OneHotEncoder.__init__() got an unexpected keyword argument 'sparse'",
     "output_type": "error",
     "traceback": [
      "\u001b[1;31m---------------------------------------------------------------------------\u001b[0m",
      "\u001b[1;31mTypeError\u001b[0m                                 Traceback (most recent call last)",
      "Cell \u001b[1;32mIn[9], line 5\u001b[0m\n\u001b[0;32m      2\u001b[0m \u001b[38;5;28;01mfrom\u001b[39;00m \u001b[38;5;21;01msklearn\u001b[39;00m\u001b[38;5;21;01m.\u001b[39;00m\u001b[38;5;21;01mpreprocessing\u001b[39;00m \u001b[38;5;28;01mimport\u001b[39;00m OneHotEncoder\n\u001b[0;32m      4\u001b[0m \u001b[38;5;66;03m# Create OneHotEncoder object with 'drop' and 'sparse_output' arguments\u001b[39;00m\n\u001b[1;32m----> 5\u001b[0m encoder \u001b[38;5;241m=\u001b[39m \u001b[43mOneHotEncoder\u001b[49m\u001b[43m(\u001b[49m\u001b[43mdrop\u001b[49m\u001b[38;5;241;43m=\u001b[39;49m\u001b[38;5;124;43m'\u001b[39;49m\u001b[38;5;124;43mfirst\u001b[39;49m\u001b[38;5;124;43m'\u001b[39;49m\u001b[43m,\u001b[49m\u001b[43m \u001b[49m\u001b[43msparse\u001b[49m\u001b[38;5;241;43m=\u001b[39;49m\u001b[38;5;28;43;01mFalse\u001b[39;49;00m\u001b[43m)\u001b[49m\n\u001b[0;32m      7\u001b[0m \u001b[38;5;66;03m# Fit and transform the categorical columns\u001b[39;00m\n\u001b[0;32m      8\u001b[0m encoded_cat \u001b[38;5;241m=\u001b[39m encoder\u001b[38;5;241m.\u001b[39mfit_transform(categorical_cols)\n",
      "\u001b[1;31mTypeError\u001b[0m: OneHotEncoder.__init__() got an unexpected keyword argument 'sparse'"
     ]
    }
   ],
   "source": [
    "# Encode categorical variables using One-Hot Encoding\n",
    "from sklearn.preprocessing import OneHotEncoder\n",
    "\n",
    "# Create OneHotEncoder object with 'drop' and 'sparse_output' arguments\n",
    "encoder = OneHotEncoder(drop='first', sparse=False)\n",
    "\n",
    "# Fit and transform the categorical columns\n",
    "encoded_cat = encoder.fit_transform(categorical_cols)\n",
    "\n",
    "# Convert the encoded categorical data into a DataFrame\n",
    "encoded_cat_df = pd.DataFrame(encoded_cat, columns=encoder.get_feature_names_out(categorical_cols.columns))\n",
    "\n",
    "# Combine encoded categorical data with numerical data\n",
    "df_encoded = pd.concat([encoded_cat_df, numerical_cols_imputed], axis=1)"
   ]
  },
  {
   "cell_type": "code",
   "execution_count": 10,
   "id": "f24315bb-b697-422b-8362-bcc3f890f894",
   "metadata": {},
   "outputs": [
    {
     "ename": "NameError",
     "evalue": "name 'encoded_cat' is not defined",
     "output_type": "error",
     "traceback": [
      "\u001b[1;31m---------------------------------------------------------------------------\u001b[0m",
      "\u001b[1;31mNameError\u001b[0m                                 Traceback (most recent call last)",
      "Cell \u001b[1;32mIn[10], line 2\u001b[0m\n\u001b[0;32m      1\u001b[0m \u001b[38;5;66;03m# Combine encoded categorical data with numerical data\u001b[39;00m\n\u001b[1;32m----> 2\u001b[0m df_encoded \u001b[38;5;241m=\u001b[39m pd\u001b[38;5;241m.\u001b[39mconcat([pd\u001b[38;5;241m.\u001b[39mDataFrame(\u001b[43mencoded_cat\u001b[49m, columns\u001b[38;5;241m=\u001b[39mencoder\u001b[38;5;241m.\u001b[39mget_feature_names_out(categorical_cols\u001b[38;5;241m.\u001b[39mcolumns)),\n\u001b[0;32m      3\u001b[0m                         numerical_cols_imputed], axis\u001b[38;5;241m=\u001b[39m\u001b[38;5;241m1\u001b[39m)\n",
      "\u001b[1;31mNameError\u001b[0m: name 'encoded_cat' is not defined"
     ]
    }
   ],
   "source": [
    "# Combine encoded categorical data with numerical data\n",
    "df_encoded = pd.concat([pd.DataFrame(encoded_cat, columns=encoder.get_feature_names_out(categorical_cols.columns)),\n",
    "                        numerical_cols_imputed], axis=1)"
   ]
  },
  {
   "cell_type": "code",
   "execution_count": 11,
   "id": "d99b6864-c5bb-4032-b17a-1ac2486dd912",
   "metadata": {},
   "outputs": [],
   "source": [
    "# Encode categorical variables using One-Hot Encoding\n",
    "from sklearn.preprocessing import OneHotEncoder"
   ]
  },
  {
   "cell_type": "code",
   "execution_count": 12,
   "id": "c33f6df7-37dd-4aeb-898f-c5ab32e154bb",
   "metadata": {},
   "outputs": [
    {
     "ename": "TypeError",
     "evalue": "OneHotEncoder.__init__() got an unexpected keyword argument 'sparse'",
     "output_type": "error",
     "traceback": [
      "\u001b[1;31m---------------------------------------------------------------------------\u001b[0m",
      "\u001b[1;31mTypeError\u001b[0m                                 Traceback (most recent call last)",
      "Cell \u001b[1;32mIn[12], line 2\u001b[0m\n\u001b[0;32m      1\u001b[0m \u001b[38;5;66;03m# Create OneHotEncoder object with 'drop' and 'sparse_output' arguments\u001b[39;00m\n\u001b[1;32m----> 2\u001b[0m encoder \u001b[38;5;241m=\u001b[39m \u001b[43mOneHotEncoder\u001b[49m\u001b[43m(\u001b[49m\u001b[43mdrop\u001b[49m\u001b[38;5;241;43m=\u001b[39;49m\u001b[38;5;124;43m'\u001b[39;49m\u001b[38;5;124;43mfirst\u001b[39;49m\u001b[38;5;124;43m'\u001b[39;49m\u001b[43m,\u001b[49m\u001b[43m \u001b[49m\u001b[43msparse\u001b[49m\u001b[38;5;241;43m=\u001b[39;49m\u001b[38;5;28;43;01mFalse\u001b[39;49;00m\u001b[43m)\u001b[49m\n",
      "\u001b[1;31mTypeError\u001b[0m: OneHotEncoder.__init__() got an unexpected keyword argument 'sparse'"
     ]
    }
   ],
   "source": [
    "# Create OneHotEncoder object with 'drop' and 'sparse_output' arguments\n",
    "encoder = OneHotEncoder(drop='first', sparse=False)"
   ]
  },
  {
   "cell_type": "code",
   "execution_count": 13,
   "id": "74568224-d2ee-45e8-8792-824030106191",
   "metadata": {},
   "outputs": [
    {
     "ename": "NameError",
     "evalue": "name 'encoder' is not defined",
     "output_type": "error",
     "traceback": [
      "\u001b[1;31m---------------------------------------------------------------------------\u001b[0m",
      "\u001b[1;31mNameError\u001b[0m                                 Traceback (most recent call last)",
      "Cell \u001b[1;32mIn[13], line 2\u001b[0m\n\u001b[0;32m      1\u001b[0m \u001b[38;5;66;03m# Fit and transform the categorical columns\u001b[39;00m\n\u001b[1;32m----> 2\u001b[0m encoded_cat \u001b[38;5;241m=\u001b[39m \u001b[43mencoder\u001b[49m\u001b[38;5;241m.\u001b[39mfit_transform(categorical_cols)\n",
      "\u001b[1;31mNameError\u001b[0m: name 'encoder' is not defined"
     ]
    }
   ],
   "source": [
    "# Fit and transform the categorical columns\n",
    "encoded_cat = encoder.fit_transform(categorical_cols)"
   ]
  },
  {
   "cell_type": "code",
   "execution_count": 14,
   "id": "4094f287-c3ec-4621-87f7-693cdec7b5cc",
   "metadata": {},
   "outputs": [
    {
     "ename": "SyntaxError",
     "evalue": "invalid syntax (2995771536.py, line 1)",
     "output_type": "error",
     "traceback": [
      "\u001b[1;36m  Cell \u001b[1;32mIn[14], line 1\u001b[1;36m\u001b[0m\n\u001b[1;33m    Convert the encoded categorical data into a DataFrame\u001b[0m\n\u001b[1;37m            ^\u001b[0m\n\u001b[1;31mSyntaxError\u001b[0m\u001b[1;31m:\u001b[0m invalid syntax\n"
     ]
    }
   ],
   "source": [
    " Convert the encoded categorical data into a DataFrame\n",
    "encoded_cat_df = pd.DataFrame(encoded_cat, columns=encoder.get_feature_names_out(categorical_cols.columns))\n"
   ]
  },
  {
   "cell_type": "code",
   "execution_count": 15,
   "id": "8fb6886a-37b5-4c04-8d7d-01dd853e694d",
   "metadata": {},
   "outputs": [
    {
     "ename": "NameError",
     "evalue": "name 'df_encoded' is not defined",
     "output_type": "error",
     "traceback": [
      "\u001b[1;31m---------------------------------------------------------------------------\u001b[0m",
      "\u001b[1;31mNameError\u001b[0m                                 Traceback (most recent call last)",
      "Cell \u001b[1;32mIn[15], line 3\u001b[0m\n\u001b[0;32m      1\u001b[0m \u001b[38;5;66;03m# Feature scaling\u001b[39;00m\n\u001b[0;32m      2\u001b[0m scaler \u001b[38;5;241m=\u001b[39m StandardScaler()\n\u001b[1;32m----> 3\u001b[0m df_encoded_scaled \u001b[38;5;241m=\u001b[39m pd\u001b[38;5;241m.\u001b[39mDataFrame(scaler\u001b[38;5;241m.\u001b[39mfit_transform(\u001b[43mdf_encoded\u001b[49m), columns\u001b[38;5;241m=\u001b[39mdf_encoded\u001b[38;5;241m.\u001b[39mcolumns)\n",
      "\u001b[1;31mNameError\u001b[0m: name 'df_encoded' is not defined"
     ]
    }
   ],
   "source": [
    "# Feature scaling\n",
    "scaler = StandardScaler()\n",
    "df_encoded_scaled = pd.DataFrame(scaler.fit_transform(df_encoded), columns=df_encoded.columns)"
   ]
  },
  {
   "cell_type": "code",
   "execution_count": 16,
   "id": "5c226fc2-f64c-4a48-b512-8eac79aba3d9",
   "metadata": {},
   "outputs": [],
   "source": [
    "import pandas as pd\n",
    "from sklearn.preprocessing import OneHotEncoder"
   ]
  },
  {
   "cell_type": "code",
   "execution_count": 17,
   "id": "c179eec8-9076-4ad6-bf67-2f9c3e4e96f7",
   "metadata": {},
   "outputs": [
    {
     "ename": "TypeError",
     "evalue": "OneHotEncoder.__init__() got an unexpected keyword argument 'sparse'",
     "output_type": "error",
     "traceback": [
      "\u001b[1;31m---------------------------------------------------------------------------\u001b[0m",
      "\u001b[1;31mTypeError\u001b[0m                                 Traceback (most recent call last)",
      "Cell \u001b[1;32mIn[17], line 2\u001b[0m\n\u001b[0;32m      1\u001b[0m \u001b[38;5;66;03m# Create OneHotEncoder object with 'drop' and 'sparse_output' arguments\u001b[39;00m\n\u001b[1;32m----> 2\u001b[0m encoder \u001b[38;5;241m=\u001b[39m \u001b[43mOneHotEncoder\u001b[49m\u001b[43m(\u001b[49m\u001b[43mdrop\u001b[49m\u001b[38;5;241;43m=\u001b[39;49m\u001b[38;5;124;43m'\u001b[39;49m\u001b[38;5;124;43mfirst\u001b[39;49m\u001b[38;5;124;43m'\u001b[39;49m\u001b[43m,\u001b[49m\u001b[43m \u001b[49m\u001b[43msparse\u001b[49m\u001b[38;5;241;43m=\u001b[39;49m\u001b[38;5;28;43;01mFalse\u001b[39;49;00m\u001b[43m)\u001b[49m\n",
      "\u001b[1;31mTypeError\u001b[0m: OneHotEncoder.__init__() got an unexpected keyword argument 'sparse'"
     ]
    }
   ],
   "source": [
    "# Create OneHotEncoder object with 'drop' and 'sparse_output' arguments\n",
    "encoder = OneHotEncoder(drop='first', sparse=False)"
   ]
  },
  {
   "cell_type": "code",
   "execution_count": 18,
   "id": "43116702-51c5-407f-9ce8-2b03c35563ba",
   "metadata": {},
   "outputs": [
    {
     "ename": "NameError",
     "evalue": "name 'wss' is not defined",
     "output_type": "error",
     "traceback": [
      "\u001b[1;31m---------------------------------------------------------------------------\u001b[0m",
      "\u001b[1;31mNameError\u001b[0m                                 Traceback (most recent call last)",
      "Cell \u001b[1;32mIn[18], line 3\u001b[0m\n\u001b[0;32m      1\u001b[0m \u001b[38;5;66;03m# Plot Elbow method\u001b[39;00m\n\u001b[0;32m      2\u001b[0m plt\u001b[38;5;241m.\u001b[39mfigure(figsize\u001b[38;5;241m=\u001b[39m(\u001b[38;5;241m10\u001b[39m, \u001b[38;5;241m6\u001b[39m))\n\u001b[1;32m----> 3\u001b[0m plt\u001b[38;5;241m.\u001b[39mplot(\u001b[38;5;28mrange\u001b[39m(\u001b[38;5;241m1\u001b[39m, \u001b[38;5;241m11\u001b[39m), \u001b[43mwss\u001b[49m, marker\u001b[38;5;241m=\u001b[39m\u001b[38;5;124m'\u001b[39m\u001b[38;5;124mo\u001b[39m\u001b[38;5;124m'\u001b[39m, linestyle\u001b[38;5;241m=\u001b[39m\u001b[38;5;124m'\u001b[39m\u001b[38;5;124m--\u001b[39m\u001b[38;5;124m'\u001b[39m)\n\u001b[0;32m      4\u001b[0m plt\u001b[38;5;241m.\u001b[39mxlabel(\u001b[38;5;124m'\u001b[39m\u001b[38;5;124mNumber of Clusters\u001b[39m\u001b[38;5;124m'\u001b[39m)\n\u001b[0;32m      5\u001b[0m plt\u001b[38;5;241m.\u001b[39mylabel(\u001b[38;5;124m'\u001b[39m\u001b[38;5;124mWithin groups sum of squares\u001b[39m\u001b[38;5;124m'\u001b[39m)\n",
      "\u001b[1;31mNameError\u001b[0m: name 'wss' is not defined"
     ]
    },
    {
     "data": {
      "text/plain": [
       "<Figure size 1000x600 with 0 Axes>"
      ]
     },
     "metadata": {},
     "output_type": "display_data"
    }
   ],
   "source": [
    "# Plot Elbow method\n",
    "plt.figure(figsize=(10, 6))\n",
    "plt.plot(range(1, 11), wss, marker='o', linestyle='--')\n",
    "plt.xlabel('Number of Clusters')\n",
    "plt.ylabel('Within groups sum of squares')\n",
    "plt.title('Elbow Method for Optimal k')\n",
    "plt.grid()\n",
    "plt.show()\n"
   ]
  },
  {
   "cell_type": "code",
   "execution_count": 19,
   "id": "29d0e0f9-7009-4215-8ac9-b5af17c9fb37",
   "metadata": {},
   "outputs": [
    {
     "ename": "NameError",
     "evalue": "name 'df_encoded_scaled' is not defined",
     "output_type": "error",
     "traceback": [
      "\u001b[1;31m---------------------------------------------------------------------------\u001b[0m",
      "\u001b[1;31mNameError\u001b[0m                                 Traceback (most recent call last)",
      "Cell \u001b[1;32mIn[19], line 4\u001b[0m\n\u001b[0;32m      2\u001b[0m k \u001b[38;5;241m=\u001b[39m \u001b[38;5;241m3\u001b[39m  \u001b[38;5;66;03m# Choose the optimal number of clusters based on the Elbow method or Silhouette score\u001b[39;00m\n\u001b[0;32m      3\u001b[0m kmeans \u001b[38;5;241m=\u001b[39m KMeans(n_clusters\u001b[38;5;241m=\u001b[39mk, random_state\u001b[38;5;241m=\u001b[39m\u001b[38;5;241m0\u001b[39m, n_init\u001b[38;5;241m=\u001b[39m\u001b[38;5;241m20\u001b[39m)\n\u001b[1;32m----> 4\u001b[0m clusters \u001b[38;5;241m=\u001b[39m kmeans\u001b[38;5;241m.\u001b[39mfit_predict(\u001b[43mdf_encoded_scaled\u001b[49m)\n",
      "\u001b[1;31mNameError\u001b[0m: name 'df_encoded_scaled' is not defined"
     ]
    }
   ],
   "source": [
    "# Perform KMeans clustering\n",
    "k = 3  # Choose the optimal number of clusters based on the Elbow method or Silhouette score\n",
    "kmeans = KMeans(n_clusters=k, random_state=0, n_init=20)\n",
    "clusters = kmeans.fit_predict(df_encoded_scaled)\n"
   ]
  },
  {
   "cell_type": "code",
   "execution_count": 20,
   "id": "00fc9f4e-082b-4024-908f-312a062acea7",
   "metadata": {},
   "outputs": [
    {
     "ename": "NameError",
     "evalue": "name 'df_sur_int' is not defined",
     "output_type": "error",
     "traceback": [
      "\u001b[1;31m---------------------------------------------------------------------------\u001b[0m",
      "\u001b[1;31mNameError\u001b[0m                                 Traceback (most recent call last)",
      "Cell \u001b[1;32mIn[20], line 4\u001b[0m\n\u001b[0;32m      2\u001b[0m k \u001b[38;5;241m=\u001b[39m \u001b[38;5;241m3\u001b[39m  \u001b[38;5;66;03m# Choose the optimal number of clusters based on the Elbow method or Silhouette score\u001b[39;00m\n\u001b[0;32m      3\u001b[0m kmeans \u001b[38;5;241m=\u001b[39m KMeans(n_clusters\u001b[38;5;241m=\u001b[39mk, random_state\u001b[38;5;241m=\u001b[39m\u001b[38;5;241m0\u001b[39m, n_init\u001b[38;5;241m=\u001b[39m\u001b[38;5;241m20\u001b[39m)\n\u001b[1;32m----> 4\u001b[0m clusters \u001b[38;5;241m=\u001b[39m kmeans\u001b[38;5;241m.\u001b[39mfit_predict(\u001b[43mdf_sur_int\u001b[49m)\n",
      "\u001b[1;31mNameError\u001b[0m: name 'df_sur_int' is not defined"
     ]
    }
   ],
   "source": [
    "# Perform KMeans clustering\n",
    "k = 3  # Choose the optimal number of clusters based on the Elbow method or Silhouette score\n",
    "kmeans = KMeans(n_clusters=k, random_state=0, n_init=20)\n",
    "clusters = kmeans.fit_predict(df_sur_int)\n"
   ]
  },
  {
   "cell_type": "code",
   "execution_count": 21,
   "id": "d2f4ada0-d060-4039-8dc7-a84b41ef1ed2",
   "metadata": {},
   "outputs": [
    {
     "ename": "NameError",
     "evalue": "name 'clusters' is not defined",
     "output_type": "error",
     "traceback": [
      "\u001b[1;31m---------------------------------------------------------------------------\u001b[0m",
      "\u001b[1;31mNameError\u001b[0m                                 Traceback (most recent call last)",
      "Cell \u001b[1;32mIn[21], line 2\u001b[0m\n\u001b[0;32m      1\u001b[0m \u001b[38;5;66;03m# Add cluster labels to the original dataframe\u001b[39;00m\n\u001b[1;32m----> 2\u001b[0m df[\u001b[38;5;124m'\u001b[39m\u001b[38;5;124mCluster\u001b[39m\u001b[38;5;124m'\u001b[39m] \u001b[38;5;241m=\u001b[39m \u001b[43mclusters\u001b[49m\n",
      "\u001b[1;31mNameError\u001b[0m: name 'clusters' is not defined"
     ]
    }
   ],
   "source": [
    "# Add cluster labels to the original dataframe\n",
    "df['Cluster'] = clusters\n"
   ]
  },
  {
   "cell_type": "code",
   "execution_count": 22,
   "id": "99529956-8279-41cd-a625-05cf3f8c0492",
   "metadata": {},
   "outputs": [
    {
     "ename": "KeyError",
     "evalue": "'Cluster'",
     "output_type": "error",
     "traceback": [
      "\u001b[1;31m---------------------------------------------------------------------------\u001b[0m",
      "\u001b[1;31mKeyError\u001b[0m                                  Traceback (most recent call last)",
      "Cell \u001b[1;32mIn[22], line 2\u001b[0m\n\u001b[0;32m      1\u001b[0m \u001b[38;5;66;03m# Analyze cluster characteristics (e.g., centroids, cluster sizes)\u001b[39;00m\n\u001b[1;32m----> 2\u001b[0m cluster_summary \u001b[38;5;241m=\u001b[39m \u001b[43mdf\u001b[49m\u001b[38;5;241;43m.\u001b[39;49m\u001b[43mgroupby\u001b[49m\u001b[43m(\u001b[49m\u001b[38;5;124;43m'\u001b[39;49m\u001b[38;5;124;43mCluster\u001b[39;49m\u001b[38;5;124;43m'\u001b[39;49m\u001b[43m)\u001b[49m\u001b[38;5;241m.\u001b[39mmean()\u001b[38;5;241m.\u001b[39mreset_index()\n\u001b[0;32m      3\u001b[0m \u001b[38;5;28mprint\u001b[39m(cluster_summary)\n",
      "File \u001b[1;32m~\\AppData\\Local\\Programs\\Python\\Python312\\Lib\\site-packages\\pandas\\core\\frame.py:9183\u001b[0m, in \u001b[0;36mDataFrame.groupby\u001b[1;34m(self, by, axis, level, as_index, sort, group_keys, observed, dropna)\u001b[0m\n\u001b[0;32m   9180\u001b[0m \u001b[38;5;28;01mif\u001b[39;00m level \u001b[38;5;129;01mis\u001b[39;00m \u001b[38;5;28;01mNone\u001b[39;00m \u001b[38;5;129;01mand\u001b[39;00m by \u001b[38;5;129;01mis\u001b[39;00m \u001b[38;5;28;01mNone\u001b[39;00m:\n\u001b[0;32m   9181\u001b[0m     \u001b[38;5;28;01mraise\u001b[39;00m \u001b[38;5;167;01mTypeError\u001b[39;00m(\u001b[38;5;124m\"\u001b[39m\u001b[38;5;124mYou have to supply one of \u001b[39m\u001b[38;5;124m'\u001b[39m\u001b[38;5;124mby\u001b[39m\u001b[38;5;124m'\u001b[39m\u001b[38;5;124m and \u001b[39m\u001b[38;5;124m'\u001b[39m\u001b[38;5;124mlevel\u001b[39m\u001b[38;5;124m'\u001b[39m\u001b[38;5;124m\"\u001b[39m)\n\u001b[1;32m-> 9183\u001b[0m \u001b[38;5;28;01mreturn\u001b[39;00m \u001b[43mDataFrameGroupBy\u001b[49m\u001b[43m(\u001b[49m\n\u001b[0;32m   9184\u001b[0m \u001b[43m    \u001b[49m\u001b[43mobj\u001b[49m\u001b[38;5;241;43m=\u001b[39;49m\u001b[38;5;28;43mself\u001b[39;49m\u001b[43m,\u001b[49m\n\u001b[0;32m   9185\u001b[0m \u001b[43m    \u001b[49m\u001b[43mkeys\u001b[49m\u001b[38;5;241;43m=\u001b[39;49m\u001b[43mby\u001b[49m\u001b[43m,\u001b[49m\n\u001b[0;32m   9186\u001b[0m \u001b[43m    \u001b[49m\u001b[43maxis\u001b[49m\u001b[38;5;241;43m=\u001b[39;49m\u001b[43maxis\u001b[49m\u001b[43m,\u001b[49m\n\u001b[0;32m   9187\u001b[0m \u001b[43m    \u001b[49m\u001b[43mlevel\u001b[49m\u001b[38;5;241;43m=\u001b[39;49m\u001b[43mlevel\u001b[49m\u001b[43m,\u001b[49m\n\u001b[0;32m   9188\u001b[0m \u001b[43m    \u001b[49m\u001b[43mas_index\u001b[49m\u001b[38;5;241;43m=\u001b[39;49m\u001b[43mas_index\u001b[49m\u001b[43m,\u001b[49m\n\u001b[0;32m   9189\u001b[0m \u001b[43m    \u001b[49m\u001b[43msort\u001b[49m\u001b[38;5;241;43m=\u001b[39;49m\u001b[43msort\u001b[49m\u001b[43m,\u001b[49m\n\u001b[0;32m   9190\u001b[0m \u001b[43m    \u001b[49m\u001b[43mgroup_keys\u001b[49m\u001b[38;5;241;43m=\u001b[39;49m\u001b[43mgroup_keys\u001b[49m\u001b[43m,\u001b[49m\n\u001b[0;32m   9191\u001b[0m \u001b[43m    \u001b[49m\u001b[43mobserved\u001b[49m\u001b[38;5;241;43m=\u001b[39;49m\u001b[43mobserved\u001b[49m\u001b[43m,\u001b[49m\n\u001b[0;32m   9192\u001b[0m \u001b[43m    \u001b[49m\u001b[43mdropna\u001b[49m\u001b[38;5;241;43m=\u001b[39;49m\u001b[43mdropna\u001b[49m\u001b[43m,\u001b[49m\n\u001b[0;32m   9193\u001b[0m \u001b[43m\u001b[49m\u001b[43m)\u001b[49m\n",
      "File \u001b[1;32m~\\AppData\\Local\\Programs\\Python\\Python312\\Lib\\site-packages\\pandas\\core\\groupby\\groupby.py:1329\u001b[0m, in \u001b[0;36mGroupBy.__init__\u001b[1;34m(self, obj, keys, axis, level, grouper, exclusions, selection, as_index, sort, group_keys, observed, dropna)\u001b[0m\n\u001b[0;32m   1326\u001b[0m \u001b[38;5;28mself\u001b[39m\u001b[38;5;241m.\u001b[39mdropna \u001b[38;5;241m=\u001b[39m dropna\n\u001b[0;32m   1328\u001b[0m \u001b[38;5;28;01mif\u001b[39;00m grouper \u001b[38;5;129;01mis\u001b[39;00m \u001b[38;5;28;01mNone\u001b[39;00m:\n\u001b[1;32m-> 1329\u001b[0m     grouper, exclusions, obj \u001b[38;5;241m=\u001b[39m \u001b[43mget_grouper\u001b[49m\u001b[43m(\u001b[49m\n\u001b[0;32m   1330\u001b[0m \u001b[43m        \u001b[49m\u001b[43mobj\u001b[49m\u001b[43m,\u001b[49m\n\u001b[0;32m   1331\u001b[0m \u001b[43m        \u001b[49m\u001b[43mkeys\u001b[49m\u001b[43m,\u001b[49m\n\u001b[0;32m   1332\u001b[0m \u001b[43m        \u001b[49m\u001b[43maxis\u001b[49m\u001b[38;5;241;43m=\u001b[39;49m\u001b[43maxis\u001b[49m\u001b[43m,\u001b[49m\n\u001b[0;32m   1333\u001b[0m \u001b[43m        \u001b[49m\u001b[43mlevel\u001b[49m\u001b[38;5;241;43m=\u001b[39;49m\u001b[43mlevel\u001b[49m\u001b[43m,\u001b[49m\n\u001b[0;32m   1334\u001b[0m \u001b[43m        \u001b[49m\u001b[43msort\u001b[49m\u001b[38;5;241;43m=\u001b[39;49m\u001b[43msort\u001b[49m\u001b[43m,\u001b[49m\n\u001b[0;32m   1335\u001b[0m \u001b[43m        \u001b[49m\u001b[43mobserved\u001b[49m\u001b[38;5;241;43m=\u001b[39;49m\u001b[38;5;28;43;01mFalse\u001b[39;49;00m\u001b[43m \u001b[49m\u001b[38;5;28;43;01mif\u001b[39;49;00m\u001b[43m \u001b[49m\u001b[43mobserved\u001b[49m\u001b[43m \u001b[49m\u001b[38;5;129;43;01mis\u001b[39;49;00m\u001b[43m \u001b[49m\u001b[43mlib\u001b[49m\u001b[38;5;241;43m.\u001b[39;49m\u001b[43mno_default\u001b[49m\u001b[43m \u001b[49m\u001b[38;5;28;43;01melse\u001b[39;49;00m\u001b[43m \u001b[49m\u001b[43mobserved\u001b[49m\u001b[43m,\u001b[49m\n\u001b[0;32m   1336\u001b[0m \u001b[43m        \u001b[49m\u001b[43mdropna\u001b[49m\u001b[38;5;241;43m=\u001b[39;49m\u001b[38;5;28;43mself\u001b[39;49m\u001b[38;5;241;43m.\u001b[39;49m\u001b[43mdropna\u001b[49m\u001b[43m,\u001b[49m\n\u001b[0;32m   1337\u001b[0m \u001b[43m    \u001b[49m\u001b[43m)\u001b[49m\n\u001b[0;32m   1339\u001b[0m \u001b[38;5;28;01mif\u001b[39;00m observed \u001b[38;5;129;01mis\u001b[39;00m lib\u001b[38;5;241m.\u001b[39mno_default:\n\u001b[0;32m   1340\u001b[0m     \u001b[38;5;28;01mif\u001b[39;00m \u001b[38;5;28many\u001b[39m(ping\u001b[38;5;241m.\u001b[39m_passed_categorical \u001b[38;5;28;01mfor\u001b[39;00m ping \u001b[38;5;129;01min\u001b[39;00m grouper\u001b[38;5;241m.\u001b[39mgroupings):\n",
      "File \u001b[1;32m~\\AppData\\Local\\Programs\\Python\\Python312\\Lib\\site-packages\\pandas\\core\\groupby\\grouper.py:1043\u001b[0m, in \u001b[0;36mget_grouper\u001b[1;34m(obj, key, axis, level, sort, observed, validate, dropna)\u001b[0m\n\u001b[0;32m   1041\u001b[0m         in_axis, level, gpr \u001b[38;5;241m=\u001b[39m \u001b[38;5;28;01mFalse\u001b[39;00m, gpr, \u001b[38;5;28;01mNone\u001b[39;00m\n\u001b[0;32m   1042\u001b[0m     \u001b[38;5;28;01melse\u001b[39;00m:\n\u001b[1;32m-> 1043\u001b[0m         \u001b[38;5;28;01mraise\u001b[39;00m \u001b[38;5;167;01mKeyError\u001b[39;00m(gpr)\n\u001b[0;32m   1044\u001b[0m \u001b[38;5;28;01melif\u001b[39;00m \u001b[38;5;28misinstance\u001b[39m(gpr, Grouper) \u001b[38;5;129;01mand\u001b[39;00m gpr\u001b[38;5;241m.\u001b[39mkey \u001b[38;5;129;01mis\u001b[39;00m \u001b[38;5;129;01mnot\u001b[39;00m \u001b[38;5;28;01mNone\u001b[39;00m:\n\u001b[0;32m   1045\u001b[0m     \u001b[38;5;66;03m# Add key to exclusions\u001b[39;00m\n\u001b[0;32m   1046\u001b[0m     exclusions\u001b[38;5;241m.\u001b[39madd(gpr\u001b[38;5;241m.\u001b[39mkey)\n",
      "\u001b[1;31mKeyError\u001b[0m: 'Cluster'"
     ]
    }
   ],
   "source": [
    "\n",
    "# Analyze cluster characteristics (e.g., centroids, cluster sizes)\n",
    "cluster_summary = df.groupby('Cluster').mean().reset_index()\n",
    "print(cluster_summary)"
   ]
  },
  {
   "cell_type": "code",
   "execution_count": null,
   "id": "b56f81c4-244d-4e93-86ff-2721abb913c7",
   "metadata": {},
   "outputs": [],
   "source": []
  }
 ],
 "metadata": {
  "kernelspec": {
   "display_name": "Python 3 (ipykernel)",
   "language": "python",
   "name": "python3"
  },
  "language_info": {
   "codemirror_mode": {
    "name": "ipython",
    "version": 3
   },
   "file_extension": ".py",
   "mimetype": "text/x-python",
   "name": "python",
   "nbconvert_exporter": "python",
   "pygments_lexer": "ipython3",
   "version": "3.12.4"
  }
 },
 "nbformat": 4,
 "nbformat_minor": 5
}
