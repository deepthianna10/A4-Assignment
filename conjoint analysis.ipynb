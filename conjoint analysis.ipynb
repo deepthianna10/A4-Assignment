{
 "cells": [
  {
   "cell_type": "code",
   "execution_count": 1,
   "id": "edc23e6f-49fd-4ecc-a737-7101ae863ddd",
   "metadata": {},
   "outputs": [
    {
     "ename": "ModuleNotFoundError",
     "evalue": "No module named 'statsmodels'",
     "output_type": "error",
     "traceback": [
      "\u001b[1;31m---------------------------------------------------------------------------\u001b[0m",
      "\u001b[1;31mModuleNotFoundError\u001b[0m                       Traceback (most recent call last)",
      "Cell \u001b[1;32mIn[1], line 4\u001b[0m\n\u001b[0;32m      2\u001b[0m \u001b[38;5;28;01mimport\u001b[39;00m \u001b[38;5;21;01mpandas\u001b[39;00m \u001b[38;5;28;01mas\u001b[39;00m \u001b[38;5;21;01mpd\u001b[39;00m\n\u001b[0;32m      3\u001b[0m \u001b[38;5;28;01mimport\u001b[39;00m \u001b[38;5;21;01mnumpy\u001b[39;00m \u001b[38;5;28;01mas\u001b[39;00m \u001b[38;5;21;01mnp\u001b[39;00m\n\u001b[1;32m----> 4\u001b[0m \u001b[38;5;28;01mimport\u001b[39;00m \u001b[38;5;21;01mstatsmodels\u001b[39;00m\u001b[38;5;21;01m.\u001b[39;00m\u001b[38;5;21;01mapi\u001b[39;00m \u001b[38;5;28;01mas\u001b[39;00m \u001b[38;5;21;01msm\u001b[39;00m\n\u001b[0;32m      5\u001b[0m \u001b[38;5;28;01mimport\u001b[39;00m \u001b[38;5;21;01mmatplotlib\u001b[39;00m\u001b[38;5;21;01m.\u001b[39;00m\u001b[38;5;21;01mpyplot\u001b[39;00m \u001b[38;5;28;01mas\u001b[39;00m \u001b[38;5;21;01mplt\u001b[39;00m\n",
      "\u001b[1;31mModuleNotFoundError\u001b[0m: No module named 'statsmodels'"
     ]
    }
   ],
   "source": [
    "# Load necessary libraries\n",
    "import pandas as pd\n",
    "import numpy as np\n",
    "import statsmodels.api as sm\n",
    "import matplotlib.pyplot as plt"
   ]
  },
  {
   "cell_type": "code",
   "execution_count": 2,
   "id": "f496c9c2-3a6a-4193-9cf9-2bbe533284ee",
   "metadata": {},
   "outputs": [],
   "source": [
    "#pip install statsmodels"
   ]
  },
  {
   "cell_type": "code",
   "execution_count": 3,
   "id": "0d6dc5b8-4724-4793-93b3-3f2516d233fc",
   "metadata": {},
   "outputs": [
    {
     "ename": "ModuleNotFoundError",
     "evalue": "No module named 'statsmodels'",
     "output_type": "error",
     "traceback": [
      "\u001b[1;31m---------------------------------------------------------------------------\u001b[0m",
      "\u001b[1;31mModuleNotFoundError\u001b[0m                       Traceback (most recent call last)",
      "Cell \u001b[1;32mIn[3], line 1\u001b[0m\n\u001b[1;32m----> 1\u001b[0m \u001b[38;5;28;01mimport\u001b[39;00m \u001b[38;5;21;01mstatsmodels\u001b[39;00m\u001b[38;5;21;01m.\u001b[39;00m\u001b[38;5;21;01mapi\u001b[39;00m \u001b[38;5;28;01mas\u001b[39;00m \u001b[38;5;21;01msm\u001b[39;00m\n",
      "\u001b[1;31mModuleNotFoundError\u001b[0m: No module named 'statsmodels'"
     ]
    }
   ],
   "source": [
    "import statsmodels.api as sm"
   ]
  },
  {
   "cell_type": "code",
   "execution_count": 4,
   "id": "64caa2f9-0005-4b30-a41a-eb40ea56db5e",
   "metadata": {},
   "outputs": [],
   "source": [
    "# Read the dataset\n",
    "df = pd.read_csv(r\"C:\\Users\\LENOVO\\Downloads\\pizza_data.csv\")"
   ]
  },
  {
   "cell_type": "code",
   "execution_count": 5,
   "id": "69f629ac-21dd-46f9-9a52-824e382ca01b",
   "metadata": {},
   "outputs": [],
   "source": [
    "# Convert categorical variables to categorical dtype\n",
    "df['brand'] = df['brand'].astype('category')\n",
    "df['price'] = df['price'].astype('category')\n",
    "df['weight'] = df['weight'].astype('category')\n",
    "df['crust'] = df['crust'].astype('category')\n",
    "df['cheese'] = df['cheese'].astype('category')\n",
    "df['size'] = df['size'].astype('category')\n",
    "df['toppings'] = df['toppings'].astype('category')\n",
    "df['spicy'] = df['spicy'].astype('category')"
   ]
  },
  {
   "cell_type": "code",
   "execution_count": 6,
   "id": "a4b51368-4fa9-4695-9333-b44f8ea1dd72",
   "metadata": {},
   "outputs": [],
   "source": [
    "# Set sum contrasts for categorical variables (not directly available in Python)\n",
    "# Note: Sum contrasts are not directly supported in statsmodels, but effect coding (contrast) can be used similarly.\n"
   ]
  },
  {
   "cell_type": "code",
   "execution_count": 7,
   "id": "41f1e3ec-97ce-441c-98ab-9b6183cb40af",
   "metadata": {},
   "outputs": [],
   "source": [
    "# Define the model formula\n",
    "formula = \"ranking ~ brand + price + weight + crust + cheese + size + toppings + spicy\""
   ]
  },
  {
   "cell_type": "code",
   "execution_count": 8,
   "id": "b35dc91a-495b-44a2-b7aa-1b743419248c",
   "metadata": {},
   "outputs": [
    {
     "ename": "NameError",
     "evalue": "name 'sm' is not defined",
     "output_type": "error",
     "traceback": [
      "\u001b[1;31m---------------------------------------------------------------------------\u001b[0m",
      "\u001b[1;31mNameError\u001b[0m                                 Traceback (most recent call last)",
      "Cell \u001b[1;32mIn[8], line 2\u001b[0m\n\u001b[0;32m      1\u001b[0m \u001b[38;5;66;03m# Fit the OLS model\u001b[39;00m\n\u001b[1;32m----> 2\u001b[0m model_fit \u001b[38;5;241m=\u001b[39m \u001b[43msm\u001b[49m\u001b[38;5;241m.\u001b[39mformula\u001b[38;5;241m.\u001b[39mols(formula, data\u001b[38;5;241m=\u001b[39mdf)\u001b[38;5;241m.\u001b[39mfit()\n",
      "\u001b[1;31mNameError\u001b[0m: name 'sm' is not defined"
     ]
    }
   ],
   "source": [
    "# Fit the OLS model\n",
    "model_fit = sm.formula.ols(formula, data=df).fit()\n"
   ]
  },
  {
   "cell_type": "code",
   "execution_count": 9,
   "id": "450812aa-ed2c-4549-86c9-d2075b0cb455",
   "metadata": {},
   "outputs": [
    {
     "ename": "NameError",
     "evalue": "name 'model_fit' is not defined",
     "output_type": "error",
     "traceback": [
      "\u001b[1;31m---------------------------------------------------------------------------\u001b[0m",
      "\u001b[1;31mNameError\u001b[0m                                 Traceback (most recent call last)",
      "Cell \u001b[1;32mIn[9], line 2\u001b[0m\n\u001b[0;32m      1\u001b[0m \u001b[38;5;66;03m# Print the summary of the model\u001b[39;00m\n\u001b[1;32m----> 2\u001b[0m \u001b[38;5;28mprint\u001b[39m(\u001b[43mmodel_fit\u001b[49m\u001b[38;5;241m.\u001b[39msummary())\n",
      "\u001b[1;31mNameError\u001b[0m: name 'model_fit' is not defined"
     ]
    }
   ],
   "source": [
    "# Print the summary of the model\n",
    "print(model_fit.summary())\n"
   ]
  },
  {
   "cell_type": "code",
   "execution_count": 10,
   "id": "3e51cf1d-6fc1-446c-9d90-9228ec3d04fd",
   "metadata": {},
   "outputs": [],
   "source": [
    "# List of conjoint attributes\n",
    "conjoint_attributes = ['brand', 'price', 'weight', 'crust', 'cheese', 'size', 'toppings', 'spicy']\n"
   ]
  },
  {
   "cell_type": "code",
   "execution_count": 11,
   "id": "4771b0f0-e253-46c8-af18-c8a88a53e46d",
   "metadata": {},
   "outputs": [],
   "source": [
    "# Initialize lists to store results\n",
    "level_name = {}\n",
    "part_worth = {}\n",
    "part_worth_range = []\n",
    "important_levels = {}"
   ]
  },
  {
   "cell_type": "code",
   "execution_count": 12,
   "id": "8a528603-3a19-48c8-8ff5-1ba5b91c48f9",
   "metadata": {},
   "outputs": [],
   "source": [
    "# Loop through each attribute to calculate part-worths\n",
    "for item in conjoint_attributes:\n",
    "    levels = df[item].cat.categories.to_list()\n",
    "    level_name[item] = levels"
   ]
  },
  {
   "cell_type": "code",
   "execution_count": 13,
   "id": "77a60ad6-4546-4073-86dd-00368145a6a4",
   "metadata": {},
   "outputs": [
    {
     "ename": "IndentationError",
     "evalue": "unexpected indent (1280678722.py, line 2)",
     "output_type": "error",
     "traceback": [
      "\u001b[1;36m  Cell \u001b[1;32mIn[13], line 2\u001b[1;36m\u001b[0m\n\u001b[1;33m    coef_names = model_fit.params.index\u001b[0m\n\u001b[1;37m    ^\u001b[0m\n\u001b[1;31mIndentationError\u001b[0m\u001b[1;31m:\u001b[0m unexpected indent\n"
     ]
    }
   ],
   "source": [
    "# Extract part-worths for the current attribute\n",
    "    coef_names = model_fit.params.index\n",
    "    attribute_coef = [coef_name for coef_name in coef_names if item in coef_name]\n",
    "    "
   ]
  },
  {
   "cell_type": "code",
   "execution_count": 14,
   "id": "a2c568be-45de-4773-a883-cc89abcbb742",
   "metadata": {},
   "outputs": [
    {
     "ename": "IndentationError",
     "evalue": "unexpected indent (597577575.py, line 2)",
     "output_type": "error",
     "traceback": [
      "\u001b[1;36m  Cell \u001b[1;32mIn[14], line 2\u001b[1;36m\u001b[0m\n\u001b[1;33m    new_part_worth = np.append(new_part_worth, (-1) * np.sum(new_part_worth))\u001b[0m\n\u001b[1;37m    ^\u001b[0m\n\u001b[1;31mIndentationError\u001b[0m\u001b[1;31m:\u001b[0m unexpected indent\n"
     ]
    }
   ],
   "source": [
    "new_part_worth = model_fit.params[attribute_coef].values\n",
    "    new_part_worth = np.append(new_part_worth, (-1) * np.sum(new_part_worth))\n",
    "    "
   ]
  },
  {
   "cell_type": "code",
   "execution_count": 15,
   "id": "45a07527-30c6-40cf-b07f-2d03a586f598",
   "metadata": {},
   "outputs": [
    {
     "ename": "IndentationError",
     "evalue": "unexpected indent (2802619681.py, line 2)",
     "output_type": "error",
     "traceback": [
      "\u001b[1;36m  Cell \u001b[1;32mIn[15], line 2\u001b[1;36m\u001b[0m\n\u001b[1;33m    part_worth[item] = dict(zip(levels, new_part_worth))\u001b[0m\n\u001b[1;37m    ^\u001b[0m\n\u001b[1;31mIndentationError\u001b[0m\u001b[1;31m:\u001b[0m unexpected indent\n"
     ]
    }
   ],
   "source": [
    "# Ensure the part-worths are in the correct order\n",
    "    part_worth[item] = dict(zip(levels, new_part_worth))"
   ]
  },
  {
   "cell_type": "code",
   "execution_count": 16,
   "id": "d3b3b676-9c2b-4a8b-9cd5-3d488b828f01",
   "metadata": {},
   "outputs": [
    {
     "ename": "IndentationError",
     "evalue": "unexpected indent (1217344056.py, line 2)",
     "output_type": "error",
     "traceback": [
      "\u001b[1;36m  Cell \u001b[1;32mIn[16], line 2\u001b[1;36m\u001b[0m\n\u001b[1;33m    important_levels[item] = np.argmax(new_part_worth)\u001b[0m\n\u001b[1;37m    ^\u001b[0m\n\u001b[1;31mIndentationError\u001b[0m\u001b[1;31m:\u001b[0m unexpected indent\n"
     ]
    }
   ],
   "source": [
    "  # Identify the most important level\n",
    "    important_levels[item] = np.argmax(new_part_worth)\n",
    "    part_worth_range.append(np.max(new_part_worth) - np.min(new_part_worth))\n"
   ]
  },
  {
   "cell_type": "code",
   "execution_count": 17,
   "id": "e605bc40-603c-4bdd-a931-991c7164d5e4",
   "metadata": {},
   "outputs": [],
   "source": [
    "for item in conjoint_attributes:\n",
    "    nlevels = len(set(df[item]))  # Using set() to get unique levels\n",
    "    levels = df[item].unique()\n",
    "    level_name[item] = levels\n"
   ]
  },
  {
   "cell_type": "code",
   "execution_count": 18,
   "id": "0a3d57b7-2fbc-4033-999c-5c5fc44a45ee",
   "metadata": {},
   "outputs": [
    {
     "ename": "IndentationError",
     "evalue": "unexpected indent (3677423339.py, line 2)",
     "output_type": "error",
     "traceback": [
      "\u001b[1;36m  Cell \u001b[1;32mIn[18], line 2\u001b[1;36m\u001b[0m\n\u001b[1;33m    coef_names = model_fit.params.index\u001b[0m\n\u001b[1;37m    ^\u001b[0m\n\u001b[1;31mIndentationError\u001b[0m\u001b[1;31m:\u001b[0m unexpected indent\n"
     ]
    }
   ],
   "source": [
    "# Extract part-worths for the current attribute\n",
    "    coef_names = model_fit.params.index\n",
    "    attribute_coef = [coef for coef in coef_names if item in coef]"
   ]
  },
  {
   "cell_type": "code",
   "execution_count": 19,
   "id": "57ca7a4b-28a1-45d5-b678-34a5e97f402d",
   "metadata": {},
   "outputs": [
    {
     "ename": "IndentationError",
     "evalue": "unexpected indent (196654091.py, line 2)",
     "output_type": "error",
     "traceback": [
      "\u001b[1;36m  Cell \u001b[1;32mIn[19], line 2\u001b[1;36m\u001b[0m\n\u001b[1;33m    new_part_worth = np.append(new_part_worth, (-1) * np.sum(new_part_worth))\u001b[0m\n\u001b[1;37m    ^\u001b[0m\n\u001b[1;31mIndentationError\u001b[0m\u001b[1;31m:\u001b[0m unexpected indent\n"
     ]
    }
   ],
   "source": [
    "new_part_worth = model_fit.params[attribute_coef]\n",
    "    new_part_worth = np.append(new_part_worth, (-1) * np.sum(new_part_worth))\n"
   ]
  },
  {
   "cell_type": "code",
   "execution_count": 20,
   "id": "a9974921-2d25-4380-984c-3f93860c50eb",
   "metadata": {},
   "outputs": [],
   "source": [
    "# Calculate attribute importance\n",
    "part_worth_range = np.array(part_worth_range)\n",
    "attribute_importance = np.round(100 * (part_worth_range / np.sum(part_worth_range)), 2)\n"
   ]
  },
  {
   "cell_type": "code",
   "execution_count": 21,
   "id": "ea8b081d-9dc9-4d28-8449-5046c0eda737",
   "metadata": {},
   "outputs": [
    {
     "name": "stdout",
     "output_type": "stream",
     "text": [
      "-------------------------------------------------------------\n",
      "level name:\n",
      "{'brand': ['Dominos', 'Pizza hut', 'Onesta', 'Oven Story']\n",
      "Categories (4, object): ['Dominos', 'Onesta', 'Oven Story', 'Pizza hut'], 'price': ['$1.00', '$3.00', '$4.00', '$2.00']\n",
      "Categories (4, object): ['$1.00', '$2.00', '$3.00', '$4.00'], 'weight': ['100g', '200g', '400g', '300g']\n",
      "Categories (4, object): ['100g', '200g', '300g', '400g'], 'crust': ['thin', 'thick']\n",
      "Categories (2, object): ['thick', 'thin'], 'cheese': ['Mozzarella', 'Cheddar']\n",
      "Categories (2, object): ['Cheddar', 'Mozzarella'], 'size': ['regular', 'large']\n",
      "Categories (2, object): ['large', 'regular'], 'toppings': ['paneer', 'mushroom']\n",
      "Categories (2, object): ['mushroom', 'paneer'], 'spicy': ['normal', 'extra']\n",
      "Categories (2, object): ['extra', 'normal']}\n",
      "part worth:\n",
      "{}\n",
      "part_worth_range:\n",
      "[]\n",
      "important levels:\n",
      "{}\n",
      "attribute importance:\n",
      "[]\n"
     ]
    }
   ],
   "source": [
    "# Print results\n",
    "print(\"-------------------------------------------------------------\")\n",
    "print(\"level name:\")\n",
    "print(level_name)\n",
    "print(\"part worth:\")\n",
    "print(part_worth)\n",
    "print(\"part_worth_range:\")\n",
    "print(part_worth_range)\n",
    "print(\"important levels:\")\n",
    "print(important_levels)\n",
    "print(\"attribute importance:\")\n",
    "print(attribute_importance)"
   ]
  },
  {
   "cell_type": "code",
   "execution_count": 22,
   "id": "586bd38b-d7f4-4651-8726-654766077f39",
   "metadata": {},
   "outputs": [
    {
     "ename": "NameError",
     "evalue": "name 'plt' is not defined",
     "output_type": "error",
     "traceback": [
      "\u001b[1;31m---------------------------------------------------------------------------\u001b[0m",
      "\u001b[1;31mNameError\u001b[0m                                 Traceback (most recent call last)",
      "Cell \u001b[1;32mIn[22], line 2\u001b[0m\n\u001b[0;32m      1\u001b[0m \u001b[38;5;66;03m# Plot the relative importance of attributes\u001b[39;00m\n\u001b[1;32m----> 2\u001b[0m \u001b[43mplt\u001b[49m\u001b[38;5;241m.\u001b[39mfigure(figsize\u001b[38;5;241m=\u001b[39m(\u001b[38;5;241m10\u001b[39m, \u001b[38;5;241m6\u001b[39m))\n\u001b[0;32m      3\u001b[0m plt\u001b[38;5;241m.\u001b[39mbar(conjoint_attributes, attribute_importance, color\u001b[38;5;241m=\u001b[39m\u001b[38;5;124m'\u001b[39m\u001b[38;5;124mskyblue\u001b[39m\u001b[38;5;124m'\u001b[39m)\n\u001b[0;32m      4\u001b[0m plt\u001b[38;5;241m.\u001b[39mtitle(\u001b[38;5;124m'\u001b[39m\u001b[38;5;124mRelative importance of attributes\u001b[39m\u001b[38;5;124m'\u001b[39m)\n",
      "\u001b[1;31mNameError\u001b[0m: name 'plt' is not defined"
     ]
    }
   ],
   "source": [
    "# Plot the relative importance of attributes\n",
    "plt.figure(figsize=(10, 6))\n",
    "plt.bar(conjoint_attributes, attribute_importance, color='skyblue')\n",
    "plt.title('Relative importance of attributes')\n",
    "plt.xlabel('Attributes')\n",
    "plt.ylabel('Importance')\n",
    "plt.grid(True)\n",
    "plt.show()\n"
   ]
  },
  {
   "cell_type": "code",
   "execution_count": 23,
   "id": "417f5deb-7b20-4165-a335-3bb64581e7a3",
   "metadata": {},
   "outputs": [],
   "source": [
    "# Calculate utility for each profile\n",
    "def calculate_utility(row):\n",
    "    return sum(part_worth[attr][row[attr]] for attr in conjoint_attributes)\n"
   ]
  },
  {
   "cell_type": "code",
   "execution_count": null,
   "id": "7ef2cbbc-20ab-46b6-8e4a-637ee598fdf9",
   "metadata": {},
   "outputs": [],
   "source": []
  }
 ],
 "metadata": {
  "kernelspec": {
   "display_name": "Python 3 (ipykernel)",
   "language": "python",
   "name": "python3"
  },
  "language_info": {
   "codemirror_mode": {
    "name": "ipython",
    "version": 3
   },
   "file_extension": ".py",
   "mimetype": "text/x-python",
   "name": "python",
   "nbconvert_exporter": "python",
   "pygments_lexer": "ipython3",
   "version": "3.12.4"
  }
 },
 "nbformat": 4,
 "nbformat_minor": 5
}
